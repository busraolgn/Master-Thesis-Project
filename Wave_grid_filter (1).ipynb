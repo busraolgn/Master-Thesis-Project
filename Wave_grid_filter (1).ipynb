{
 "cells": [
  {
   "cell_type": "code",
   "execution_count": 1,
   "metadata": {},
   "outputs": [],
   "source": [
    "import pandas as pd\n",
    "import numpy as np\n",
    "import io\n",
    "import os\n",
    "import requests\n",
    "import urllib3\n",
    "from bs4 import BeautifulSoup as bs4\n",
    "from importlib import import_module\n",
    "import sys\n",
    "sys.path.insert(0,'./support')\n",
    "sys.path.insert(0,'./wave-site-studies/site_data')\n",
    "\n",
    "from ipynb.fs.defs.Coordinates import Coordinates\n",
    "from ipynb.fs.defs.Sites import wave_columns, Site\n",
    "from ipynb.fs.defs.Grid import Grid,Border\n",
    "from ipynb.fs.defs.Databases import Database\n",
    "from ipynb.fs.defs.Periods import Period"
   ]
  },
  {
   "cell_type": "code",
   "execution_count": 2,
   "metadata": {},
   "outputs": [],
   "source": [
    "def get_Oahu_borders():\n",
    "    \n",
    "    url='https://pae-paha.pacioos.hawaii.edu/erddap/info/swan_oahu/index.csv'\n",
    "    \n",
    "    db_attributes = pd.read_csv(url)\n",
    "    db_attributes.set_index(['Attribute Name'], inplace=True)\n",
    "    \n",
    "    polygon=db_attributes.loc['geospatial_bounds','Value']\n",
    "    \n",
    "    lat_max=db_attributes.loc['geospatial_lat_max','Value']\n",
    "    lat_min=db_attributes.loc['geospatial_lat_min','Value']\n",
    "    lon_max=db_attributes.loc['geospatial_lon_max','Value']\n",
    "    lon_min=db_attributes.loc['geospatial_lon_min','Value']\n",
    "    \n",
    "    border_Oahu = Border(float(lat_min),float(lat_max),float(lon_min),float(lon_max))\n",
    "    \n",
    "    return border_Oahu"
   ]
  },
  {
   "cell_type": "code",
   "execution_count": 3,
   "metadata": {},
   "outputs": [],
   "source": [
    "def get_WaveWatch3_borders():\n",
    "    \n",
    "    url='https://coastwatch.pfeg.noaa.gov/erddap/info/NWW3_Global_Best/index.csv'\n",
    "    \n",
    "    db_attributes = pd.read_csv(url)\n",
    "    db_attributes.set_index(['Attribute Name'], inplace=True)\n",
    "    \n",
    "    polygon=db_attributes.loc['geospatial_bounds','Value']\n",
    "    \n",
    "    lat_max=db_attributes.loc['geospatial_lat_max','Value']\n",
    "    lat_min=db_attributes.loc['geospatial_lat_min','Value']\n",
    "    lon_max=db_attributes.loc['geospatial_lon_max','Value']\n",
    "    lon_min=db_attributes.loc['geospatial_lon_min','Value']\n",
    "    \n",
    "    border_WW3 = Border(float(lat_min),float(lat_max),float(lon_min),float(lon_max))\n",
    "    \n",
    "    return border_WW3"
   ]
  },
  {
   "cell_type": "code",
   "execution_count": 4,
   "metadata": {},
   "outputs": [],
   "source": [
    "def get_grid_list():\n",
    "\n",
    "    border_WW3 = get_WaveWatch3_borders()\n",
    "    WW3 = Grid('WaveWatch3', 'get_WaveWatch3_data', './wave-site-studies/site_data/', Database.WaveWatch3, Period.Tp, border_WW3)\n",
    "\n",
    "    border_Oahu = get_Oahu_borders()\n",
    "    Oahu = Grid('Oahu', 'get_Oahu_data', './wave-site-studies/site_data/', Database.Oahu, Period.Tp, border_Oahu)\n",
    "\n",
    "    #When adding a new grid/region data, the spatial bounds needs to be considered.\n",
    "    #the list should go from the smaller sized area through the bigger sized one.. \n",
    "    #So, an area with the biggest coverage should be at the end of the list.\n",
    "    # This is done in order to get the data with higher resolution as possible..\n",
    "    #Alo the key should be the same as the database enum.\n",
    "    grid_list = {\n",
    "        'Oahu' : Oahu,\n",
    "        'WaveWatch3': WW3\n",
    "    }\n",
    "\n",
    "    return grid_list"
   ]
  },
  {
   "cell_type": "code",
   "execution_count": 2,
   "metadata": {},
   "outputs": [],
   "source": [
    "def get_model_data(site, time_start, time_end, swell=False):\n",
    "    \n",
    "    grid_list = get_grid_list()\n",
    "    db=None\n",
    "    if site.force_db:\n",
    "        db = grid_list.get(site.force_db.name)\n",
    "        # coordinates are somethimes displayed differently. Eg. west is not always shown as '-'value. \n",
    "        #somethimes its only east like -10 east is 350 east.... Wavewatch3 has this.\n",
    "        if not (db.border.isin(site.coordinates) or db.border.isin(Coordinates(site.coordinates.latitude, 360+site.coordinates.longitude))):\n",
    "            print('given site '+site.name+' is not in the border of database '+site.force_db.name+'. Data will come from WaveWatch3 database')\n",
    "            db = grid_list.get('WaveWatch3')\n",
    "\n",
    "    else:\n",
    "        for key,value in grid_list.items(): \n",
    "            #map(all(for site in sites),sites)\n",
    "            if value.border.isin(site.coordinates):\n",
    "                db = value\n",
    "                break\n",
    "    if not db:\n",
    "         db = grid_list.get('WaveWatch3')\n",
    "         \n",
    "    function = db.function\n",
    "    notebook= db.name+'.ipynb'\n",
    "    %run $notebook\n",
    "    site_data = globals()[function](site, time_start, time_end, swell)\n",
    "    Ttype= db.Ttype\n",
    "    \n",
    "    #if no data returned then try wavewatch3 model once...\n",
    "    if site_data.empty and not db.name=='WaveWatch3':\n",
    "        print('Site', site.name, 'has no data available. Getting data from a model')\n",
    "        db = grid_list.get('WaveWatch3')\n",
    "        function = db.function\n",
    "        notebook= db.name+'.ipynb'\n",
    "        %run $notebook\n",
    "        site_data = globals()[function](site, time_start, time_end, swell)\n",
    "        Ttype= db.Ttype \n",
    "\n",
    "    return site_data, Ttype\n"
   ]
  },
  {
   "cell_type": "raw",
   "metadata": {},
   "source": [
    "start='20170506'\n",
    "end='20181231'\n",
    "# \n",
    "s = Site('X' , Coordinates(53.23 , -9.27))\n",
    "s2 = Site('Belmullet' , Coordinates(54.23 , -10.13))\n",
    "sites = [s , s2]\n",
    "get_model_data(sites, start, end, Database.WaveWatch3)"
   ]
  },
  {
   "cell_type": "code",
   "execution_count": null,
   "metadata": {},
   "outputs": [],
   "source": []
  }
 ],
 "metadata": {
  "kernelspec": {
   "display_name": "Python 3",
   "language": "python",
   "name": "python3"
  },
  "language_info": {
   "codemirror_mode": {
    "name": "ipython",
    "version": 3
   },
   "file_extension": ".py",
   "mimetype": "text/x-python",
   "name": "python",
   "nbconvert_exporter": "python",
   "pygments_lexer": "ipython3",
   "version": "3.6.7"
  }
 },
 "nbformat": 4,
 "nbformat_minor": 2
}
