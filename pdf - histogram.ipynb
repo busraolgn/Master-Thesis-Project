{
 "cells": [
  {
   "cell_type": "code",
   "execution_count": 1,
   "metadata": {},
   "outputs": [],
   "source": [
    "import matplotlib.pyplot as plt\n",
    "import numpy as np\n",
    "import pandas as pd\n",
    "\n",
    "import imp\n",
    "import os\n",
    "import sys\n",
    "sys.path.insert(0,'./support')\n",
    "\n",
    "from ipynb.fs.defs.Sites import Site\n",
    "from ipynb.fs.defs.Coordinates import Coordinates"
   ]
  },
  {
   "cell_type": "code",
   "execution_count": null,
   "metadata": {},
   "outputs": [],
   "source": [
    "%run ./Wave_buoy_filter.ipynb"
   ]
  },
  {
   "cell_type": "code",
   "execution_count": 43,
   "metadata": {
    "collapsed": true
   },
   "outputs": [
    {
     "name": "stdout",
     "output_type": "stream",
     "text": [
      "new buoy closer than 3 km\n",
      "new buoy closer than 3 km\n",
      "fetching Wave data from the CDIP database\n",
      "There are  563  missing data points out of  17520\n",
      "We remove  3  points because they fall in a time interval where there already is data\n",
      "For the site San Nicolas Island there are more than one buoys found for the location.\n",
      "Data gathered from: \n"
     ]
    },
    {
     "data": {
      "text/html": [
       "<div>\n",
       "<style scoped>\n",
       "    .dataframe tbody tr th:only-of-type {\n",
       "        vertical-align: middle;\n",
       "    }\n",
       "\n",
       "    .dataframe tbody tr th {\n",
       "        vertical-align: top;\n",
       "    }\n",
       "\n",
       "    .dataframe thead th {\n",
       "        text-align: right;\n",
       "    }\n",
       "</style>\n",
       "<table border=\"1\" class=\"dataframe\">\n",
       "  <thead>\n",
       "    <tr style=\"text-align: right;\">\n",
       "      <th></th>\n",
       "      <th>73</th>\n",
       "    </tr>\n",
       "  </thead>\n",
       "  <tbody>\n",
       "    <tr>\n",
       "      <td>Depth(m)</td>\n",
       "      <td>274.32</td>\n",
       "    </tr>\n",
       "    <tr>\n",
       "      <td>Grid</td>\n",
       "      <td>Area: California_CDIP, Main function: get_CDIP...</td>\n",
       "    </tr>\n",
       "    <tr>\n",
       "      <td>LastDataMeasured</td>\n",
       "      <td>NaN</td>\n",
       "    </tr>\n",
       "    <tr>\n",
       "      <td>Latitude</td>\n",
       "      <td>33.22</td>\n",
       "    </tr>\n",
       "    <tr>\n",
       "      <td>Longitude</td>\n",
       "      <td>-119.88</td>\n",
       "    </tr>\n",
       "    <tr>\n",
       "      <td>Station_ID</td>\n",
       "      <td>67</td>\n",
       "    </tr>\n",
       "    <tr>\n",
       "      <td>Station_Name</td>\n",
       "      <td>SAN NICOLAS ISLAND, CA</td>\n",
       "    </tr>\n",
       "    <tr>\n",
       "      <td>distance</td>\n",
       "      <td>0</td>\n",
       "    </tr>\n",
       "  </tbody>\n",
       "</table>\n",
       "</div>"
      ],
      "text/plain": [
       "                                                                 73\n",
       "Depth(m)                                                     274.32\n",
       "Grid              Area: California_CDIP, Main function: get_CDIP...\n",
       "LastDataMeasured                                                NaN\n",
       "Latitude                                                      33.22\n",
       "Longitude                                                   -119.88\n",
       "Station_ID                                                       67\n",
       "Station_Name                                 SAN NICOLAS ISLAND, CA\n",
       "distance                                                          0"
      ]
     },
     "metadata": {},
     "output_type": "display_data"
    },
    {
     "name": "stdout",
     "output_type": "stream",
     "text": [
      "All available buoys: \n"
     ]
    },
    {
     "data": {
      "text/html": [
       "<div>\n",
       "<style scoped>\n",
       "    .dataframe tbody tr th:only-of-type {\n",
       "        vertical-align: middle;\n",
       "    }\n",
       "\n",
       "    .dataframe tbody tr th {\n",
       "        vertical-align: top;\n",
       "    }\n",
       "\n",
       "    .dataframe thead th {\n",
       "        text-align: right;\n",
       "    }\n",
       "</style>\n",
       "<table border=\"1\" class=\"dataframe\">\n",
       "  <thead>\n",
       "    <tr style=\"text-align: right;\">\n",
       "      <th></th>\n",
       "      <th>Depth(m)</th>\n",
       "      <th>Grid</th>\n",
       "      <th>LastDataMeasured</th>\n",
       "      <th>Latitude</th>\n",
       "      <th>Longitude</th>\n",
       "      <th>Station_ID</th>\n",
       "      <th>Station_Name</th>\n",
       "      <th>distance</th>\n",
       "    </tr>\n",
       "  </thead>\n",
       "  <tbody>\n",
       "    <tr>\n",
       "      <td>73</td>\n",
       "      <td>274.32</td>\n",
       "      <td>Area: California_CDIP, Main function: get_CDIP...</td>\n",
       "      <td>NaN</td>\n",
       "      <td>33.22</td>\n",
       "      <td>-119.88</td>\n",
       "      <td>67</td>\n",
       "      <td>SAN NICOLAS ISLAND, CA</td>\n",
       "      <td>0.0</td>\n",
       "    </tr>\n",
       "    <tr>\n",
       "      <td>375</td>\n",
       "      <td>NaN</td>\n",
       "      <td>Area: EMODnet_Physics, Main function: get_Emod...</td>\n",
       "      <td>2020/07/06 13:56</td>\n",
       "      <td>33.22</td>\n",
       "      <td>-119.88</td>\n",
       "      <td>27683</td>\n",
       "      <td>46219</td>\n",
       "      <td>0.0</td>\n",
       "    </tr>\n",
       "  </tbody>\n",
       "</table>\n",
       "</div>"
      ],
      "text/plain": [
       "     Depth(m)                                               Grid  \\\n",
       "73     274.32  Area: California_CDIP, Main function: get_CDIP...   \n",
       "375       NaN  Area: EMODnet_Physics, Main function: get_Emod...   \n",
       "\n",
       "     LastDataMeasured  Latitude  Longitude Station_ID            Station_Name  \\\n",
       "73                NaN     33.22    -119.88         67  SAN NICOLAS ISLAND, CA   \n",
       "375  2020/07/06 13:56     33.22    -119.88      27683                   46219   \n",
       "\n",
       "     distance  \n",
       "73        0.0  \n",
       "375       0.0  "
      ]
     },
     "metadata": {},
     "output_type": "display_data"
    },
    {
     "name": "stdout",
     "output_type": "stream",
     "text": [
      "In order to get data from another buoy, add selected buoys station id as a force_id parameter to the corresponding site input.\n"
     ]
    },
    {
     "data": {
      "text/plain": [
       "{'site names': ['San Nicolas Island'],\n",
       " 'latitudes': [33.22],\n",
       " 'longitudes': [-119.88],\n",
       " 'Hs': ['Hs(m)_San Nicolas Island'],\n",
       " 'T': [{'name': 'Tp(s)_San Nicolas Island', 'type': <Period.Tp: 'Tp'>}],\n",
       " 'nearest buoys': [{'station id': '67',\n",
       "   'latitude': 33.22,\n",
       "   'longitude': -119.88,\n",
       "   'distance (km)': 29.28165972065843}],\n",
       " 'timeSeries':                            Hs(m)_CDIP67  Tp(s)_CDIP67\n",
       " Time (UTC)                                           \n",
       " 2011-01-01 00:00:00+00:00          2.03         10.53\n",
       " 2011-01-01 00:30:00+00:00          2.10         10.53\n",
       " 2011-01-01 01:00:00+00:00          1.97         10.53\n",
       " 2011-01-01 01:30:00+00:00          2.10         11.76\n",
       " 2011-01-01 02:00:00+00:00          1.99         10.53\n",
       " ...                                 ...           ...\n",
       " 2011-12-31 21:30:00+00:00          2.51         15.38\n",
       " 2011-12-31 22:00:00+00:00          2.56         15.38\n",
       " 2011-12-31 22:30:00+00:00          2.33         13.33\n",
       " 2011-12-31 23:00:00+00:00          2.64         15.38\n",
       " 2011-12-31 23:30:00+00:00          2.50         15.38\n",
       " \n",
       " [17520 rows x 2 columns]}"
      ]
     },
     "execution_count": 43,
     "metadata": {},
     "output_type": "execute_result"
    }
   ],
   "source": [
    "start = '20110101'\n",
    "end = '20111231'\n",
    "\n",
    "sites=[Site('San Nicolas Island',Coordinates(33.22,-119.88))]\n",
    "\n",
    "get_buoy_data(sites,start,end)"
   ]
  },
  {
   "cell_type": "code",
   "execution_count": 12,
   "metadata": {
    "collapsed": true
   },
   "outputs": [
    {
     "name": "stdout",
     "output_type": "stream",
     "text": [
      "fetching Wave data from the CDIP database\n",
      "There are  563  missing data points out of  17520\n",
      "We remove  3  points because they fall in a time interval where there already is data\n",
      "Getting data from Emodnet\n"
     ]
    },
    {
     "name": "stderr",
     "output_type": "stream",
     "text": [
      "/opt/tljh/user/lib/python3.6/site-packages/urllib3/connectionpool.py:1004: InsecureRequestWarning: Unverified HTTPS request is being made. Adding certificate verification is strongly advised. See: https://urllib3.readthedocs.io/en/latest/advanced-usage.html#ssl-warnings\n",
      "  InsecureRequestWarning,\n"
     ]
    },
    {
     "name": "stdout",
     "output_type": "stream",
     "text": [
      "There are  2441  missing data points out of  17520\n"
     ]
    }
   ],
   "source": [
    "start = '20110101'\n",
    "end = '20111231'\n",
    "\n",
    "name='./California_CDIP.ipynb'\n",
    "%run $name\n",
    "cdip1=get_CDIP_data(start,end,67)\n",
    "\n",
    "name='./EMODnet_Physics.ipynb'\n",
    "%run $name\n",
    "emodnet1 = get_Emodnet_data(start,end,27683)"
   ]
  },
  {
   "cell_type": "code",
   "execution_count": 24,
   "metadata": {},
   "outputs": [
    {
     "name": "stdout",
     "output_type": "stream",
     "text": [
      "fetching Wave data from the CDIP database\n",
      "There are  611  missing data points out of  17568\n"
     ]
    },
    {
     "data": {
      "image/png": "[encoded data removed]",
      "text/plain": [
       "<Figure size 432x288 with 1 Axes>"
      ]
     },
     "metadata": {
      "needs_background": "light"
     },
     "output_type": "display_data"
    }
   ],
   "source": [
    "start = '20160101'\n",
    "end = '20161231'\n",
    "\n",
    "cdip1=get_CDIP_data(start,end,67)\n",
    "\n",
    "cdip1\n",
    "# Hs(m)_CDIP67\tTp(s)_CDIP67\n",
    "cdip1['Hs(m)_CDIP67'].hist()\n",
    "plt.show()"
   ]
  },
  {
   "cell_type": "code",
   "execution_count": 25,
   "metadata": {},
   "outputs": [
    {
     "data": {
      "image/png": "[encoded data removed]",
      "text/plain": [
       "<Figure size 432x288 with 1 Axes>"
      ]
     },
     "metadata": {
      "needs_background": "light"
     },
     "output_type": "display_data"
    }
   ],
   "source": [
    "cdip1['Hs(m)_CDIP67'].plot(kind='kde')\n",
    "plt.show()"
   ]
  },
  {
   "cell_type": "code",
   "execution_count": 16,
   "metadata": {},
   "outputs": [
    {
     "data": {
      "image/png": "[encoded data removed]",
      "text/plain": [
       "<Figure size 432x288 with 1 Axes>"
      ]
     },
     "metadata": {
      "needs_background": "light"
     },
     "output_type": "display_data"
    }
   ],
   "source": [
    "emodnet1['Hs(m)_Emodnet(vhm0)_27683'].hist()\n",
    "plt.show()"
   ]
  },
  {
   "cell_type": "code",
   "execution_count": null,
   "metadata": {},
   "outputs": [],
   "source": [
    "series = pd.read_csv('daily-minimum-temperatures.csv', header=0, index_col=0, parse_dates=True, squeeze=True)\n",
    "series.hist()\n",
    "pyplot.show()"
   ]
  },
  {
   "cell_type": "code",
   "execution_count": 46,
   "metadata": {},
   "outputs": [
    {
     "data": {
      "image/png": "[encoded data removed]",
      "text/plain": [
       "<Figure size 432x288 with 1 Axes>"
      ]
     },
     "metadata": {
      "needs_background": "light"
     },
     "output_type": "display_data"
    }
   ],
   "source": [
    "# Generate data on commute times.\n",
    "size, scale = 1000, 10\n",
    "commutes = pd.Series(np.random.gamma(scale, size=size) ** 1.5)\n",
    "\n",
    "commutes.plot.hist(grid=True, bins=len(commutes.unique()), rwidth=0.9,\n",
    "                   color='#607c8e')\n",
    "plt.title('Commute Times for 1,000 Commuters')\n",
    "plt.xlabel('Counts')\n",
    "plt.ylabel('Commute Time')\n",
    "plt.grid(axis='y', alpha=0.75)"
   ]
  },
  {
   "cell_type": "code",
   "execution_count": 40,
   "metadata": {},
   "outputs": [
    {
     "data": {
      "text/plain": [
       "262      6.537317\n",
       "168      6.934227\n",
       "31       7.740865\n",
       "34       7.938820\n",
       "738      7.993829\n",
       "          ...    \n",
       "728     91.672877\n",
       "509     92.945413\n",
       "429     98.798861\n",
       "757    109.582195\n",
       "272    113.868523\n",
       "Length: 1000, dtype: float64"
      ]
     },
     "execution_count": 40,
     "metadata": {},
     "output_type": "execute_result"
    }
   ],
   "source": [
    "commutes = commutes.sort_values()\n",
    "commutes"
   ]
  },
  {
   "cell_type": "code",
   "execution_count": 3,
   "metadata": {},
   "outputs": [
    {
     "data": {
      "text/plain": [
       "array([23.41, 23.09, 21.  , 21.22, 12.36])"
      ]
     },
     "execution_count": 3,
     "metadata": {},
     "output_type": "execute_result"
    }
   ],
   "source": [
    "# `numpy.random` uses its own PRNG.\n",
    "np.random.seed(444)\n",
    "np.set_printoptions(precision=2)\n",
    "\n",
    "d = np.random.laplace(loc=20, scale=3, size=500)\n",
    "d[:5]"
   ]
  },
  {
   "cell_type": "code",
   "execution_count": 4,
   "metadata": {
    "collapsed": true
   },
   "outputs": [
    {
     "data": {
      "text/plain": [
       "array([ 7.11,  7.68,  8.22,  8.31,  8.98,  9.22,  9.24,  9.7 ,  9.73,\n",
       "       10.1 , 10.35, 10.47, 10.78, 11.43, 11.72, 11.79, 12.36, 13.01,\n",
       "       13.31, 13.39, 13.42, 13.56, 13.7 , 13.76, 13.91, 13.93, 13.95,\n",
       "       14.06, 14.09, 14.19, 14.22, 14.23, 14.25, 14.31, 14.42, 14.45,\n",
       "       14.7 , 14.89, 15.  , 15.01, 15.01, 15.04, 15.04, 15.05, 15.09,\n",
       "       15.15, 15.23, 15.28, 15.38, 15.41, 15.47, 15.48, 15.63, 15.63,\n",
       "       15.71, 15.89, 15.98, 15.99, 16.2 , 16.22, 16.22, 16.25, 16.37,\n",
       "       16.44, 16.44, 16.47, 16.47, 16.47, 16.52, 16.55, 16.61, 16.68,\n",
       "       16.7 , 16.7 , 16.75, 16.78, 16.81, 16.82, 16.86, 16.91, 16.97,\n",
       "       16.99, 17.02, 17.04, 17.05, 17.15, 17.16, 17.21, 17.21, 17.23,\n",
       "       17.27, 17.29, 17.33, 17.33, 17.34, 17.4 , 17.43, 17.46, 17.47,\n",
       "       17.5 , 17.54, 17.57, 17.65, 17.69, 17.77, 17.88, 17.89, 17.9 ,\n",
       "       17.91, 17.94, 17.94, 18.  , 18.03, 18.07, 18.14, 18.15, 18.17,\n",
       "       18.2 , 18.21, 18.22, 18.23, 18.24, 18.25, 18.29, 18.31, 18.38,\n",
       "       18.4 , 18.45, 18.46, 18.48, 18.48, 18.49, 18.49, 18.49, 18.49,\n",
       "       18.5 , 18.54, 18.56, 18.57, 18.59, 18.6 , 18.61, 18.63, 18.64,\n",
       "       18.66, 18.67, 18.71, 18.73, 18.73, 18.74, 18.77, 18.79, 18.83,\n",
       "       18.84, 18.85, 18.91, 18.91, 18.92, 18.93, 18.95, 18.96, 18.99,\n",
       "       19.  , 19.  , 19.  , 19.02, 19.02, 19.04, 19.04, 19.05, 19.07,\n",
       "       19.07, 19.1 , 19.17, 19.18, 19.18, 19.24, 19.24, 19.27, 19.27,\n",
       "       19.29, 19.29, 19.3 , 19.31, 19.32, 19.34, 19.35, 19.36, 19.37,\n",
       "       19.37, 19.37, 19.38, 19.38, 19.4 , 19.41, 19.41, 19.42, 19.43,\n",
       "       19.45, 19.49, 19.49, 19.51, 19.51, 19.53, 19.53, 19.53, 19.54,\n",
       "       19.56, 19.57, 19.59, 19.6 , 19.61, 19.62, 19.64, 19.68, 19.71,\n",
       "       19.71, 19.73, 19.74, 19.74, 19.75, 19.75, 19.76, 19.77, 19.77,\n",
       "       19.79, 19.79, 19.79, 19.8 , 19.8 , 19.82, 19.83, 19.85, 19.85,\n",
       "       19.86, 19.86, 19.88, 19.89, 19.89, 19.9 , 19.9 , 19.93, 19.95,\n",
       "       19.96, 19.96, 19.98, 20.  , 20.  , 20.  , 20.02, 20.02, 20.03,\n",
       "       20.03, 20.05, 20.06, 20.06, 20.07, 20.1 , 20.11, 20.12, 20.12,\n",
       "       20.12, 20.12, 20.13, 20.16, 20.17, 20.2 , 20.2 , 20.2 , 20.2 ,\n",
       "       20.22, 20.22, 20.23, 20.23, 20.24, 20.25, 20.3 , 20.32, 20.38,\n",
       "       20.38, 20.4 , 20.4 , 20.4 , 20.43, 20.43, 20.48, 20.5 , 20.51,\n",
       "       20.52, 20.53, 20.53, 20.53, 20.54, 20.55, 20.55, 20.56, 20.57,\n",
       "       20.58, 20.58, 20.6 , 20.6 , 20.62, 20.66, 20.67, 20.68, 20.68,\n",
       "       20.69, 20.7 , 20.71, 20.75, 20.77, 20.83, 20.84, 20.85, 20.87,\n",
       "       20.87, 20.92, 20.98, 21.  , 21.  , 21.07, 21.08, 21.11, 21.12,\n",
       "       21.14, 21.15, 21.16, 21.18, 21.19, 21.2 , 21.22, 21.23, 21.26,\n",
       "       21.27, 21.27, 21.28, 21.28, 21.29, 21.29, 21.32, 21.34, 21.36,\n",
       "       21.38, 21.38, 21.39, 21.41, 21.41, 21.41, 21.43, 21.44, 21.47,\n",
       "       21.5 , 21.5 , 21.52, 21.54, 21.54, 21.55, 21.56, 21.57, 21.57,\n",
       "       21.58, 21.6 , 21.6 , 21.63, 21.65, 21.66, 21.69, 21.69, 21.69,\n",
       "       21.7 , 21.78, 21.8 , 21.8 , 21.8 , 21.82, 21.84, 21.89, 21.9 ,\n",
       "       21.95, 21.96, 21.98, 22.02, 22.05, 22.06, 22.06, 22.11, 22.14,\n",
       "       22.15, 22.17, 22.17, 22.27, 22.3 , 22.33, 22.36, 22.37, 22.39,\n",
       "       22.53, 22.54, 22.63, 22.65, 22.66, 22.69, 22.71, 22.76, 22.79,\n",
       "       22.8 , 22.82, 22.82, 22.92, 22.93, 22.94, 22.95, 22.97, 23.01,\n",
       "       23.05, 23.05, 23.06, 23.09, 23.09, 23.09, 23.09, 23.13, 23.17,\n",
       "       23.29, 23.4 , 23.41, 23.42, 23.42, 23.46, 23.54, 23.54, 23.6 ,\n",
       "       23.6 , 23.63, 23.69, 23.7 , 23.7 , 23.8 , 23.87, 23.89, 23.9 ,\n",
       "       23.91, 23.91, 23.97, 24.1 , 24.19, 24.2 , 24.22, 24.22, 24.3 ,\n",
       "       24.36, 24.6 , 24.64, 25.01, 25.08, 25.23, 25.28, 25.38, 25.42,\n",
       "       25.64, 25.65, 25.68, 25.75, 25.76, 25.76, 25.83, 25.83, 25.84,\n",
       "       25.93, 25.97, 26.12, 26.19, 26.24, 26.57, 26.61, 26.61, 26.71,\n",
       "       26.74, 26.78, 26.81, 26.99, 27.17, 27.4 , 27.54, 27.63, 27.83,\n",
       "       28.04, 28.09, 28.41, 30.  , 30.68, 30.79, 30.89, 31.87, 31.97,\n",
       "       32.06, 33.58, 33.72, 39.55, 44.75])"
      ]
     },
     "execution_count": 4,
     "metadata": {},
     "output_type": "execute_result"
    }
   ],
   "source": [
    "d.sort()\n",
    "d"
   ]
  },
  {
   "cell_type": "code",
   "execution_count": 5,
   "metadata": {},
   "outputs": [
    {
     "data": {
      "text/plain": [
       "(0.0, 80.0)"
      ]
     },
     "execution_count": 5,
     "metadata": {},
     "output_type": "execute_result"
    },
    {
     "data": {
      "image/png": "[encoded data removed]",
      "text/plain": [
       "<Figure size 432x288 with 1 Axes>"
      ]
     },
     "metadata": {
      "needs_background": "light"
     },
     "output_type": "display_data"
    }
   ],
   "source": [
    "# An \"interface\" to matplotlib.axes.Axes.hist() method\n",
    "n, bins, patches = plt.hist(x=d, bins='auto', color='#0504aa', alpha=0.7, rwidth=0.85)\n",
    "plt.grid(axis='y', alpha=0.75)\n",
    "plt.xlabel('Value')\n",
    "plt.ylabel('Frequency')\n",
    "plt.title('')\n",
    "plt.text(23, 45, r'$\\mu=15, b=3$')\n",
    "maxfreq = n.max()\n",
    "# Set a clean upper y-axis limit.\n",
    "plt.ylim(ymax=np.ceil(maxfreq / 10) * 10 if maxfreq % 10 else maxfreq + 10)"
   ]
  }
 ],
 "metadata": {
  "kernelspec": {
   "display_name": "Python 3",
   "language": "python",
   "name": "python3"
  },
  "language_info": {
   "codemirror_mode": {
    "name": "ipython",
    "version": 3
   },
   "file_extension": ".py",
   "mimetype": "text/x-python",
   "name": "python",
   "nbconvert_exporter": "python",
   "pygments_lexer": "ipython3",
   "version": "3.6.7"
  }
 },
 "nbformat": 4,
 "nbformat_minor": 2
}
