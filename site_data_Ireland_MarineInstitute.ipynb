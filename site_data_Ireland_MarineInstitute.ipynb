{
 "cells": [
  {
   "cell_type": "markdown",
   "metadata": {},
   "source": [
    "# Ireland wave spectral data \n",
    "\n",
    "#### Buoys & dates available from-to:\n",
    "\n",
    "1. AMETS Berth B Wave Buoy\t&   2009-12-15T16:36:00Z ~     \n",
    "2. Westwave Wave Buoy       &   2015-05-14T11:26:00Z - 2019-03-27T13:00:00Z\t\n",
    "3. SmartBay Wave Buoy       &   2008-05-01T00:11:00Z ~\n",
    "4. AMETS Berth A Wave Buoy\t&   2012-05-16T11:52:00Z ~   \n",
    "5. AMETS Berth C Wave Buoy\t&   2014-09-10T11:00:00Z - 2015-02-23T12:00:00Z\t"
   ]
  },
  {
   "cell_type": "code",
   "execution_count": 1,
   "metadata": {},
   "outputs": [],
   "source": [
    "import pandas as pd\n",
    "import numpy as np\n",
    "import requests\n",
    "import io\n",
    "import os\n",
    "from urllib.parse import quote \n",
    "from datetime import datetime,timedelta\n",
    "import math\n",
    "import urllib3\n",
    "import urllib\n",
    "from bs4 import BeautifulSoup\n",
    "import lxml.html as lh"
   ]
  },
  {
   "cell_type": "code",
   "execution_count": 2,
   "metadata": {},
   "outputs": [],
   "source": [
    "import sys\n",
    "sys.path.insert(0,'./support')\n",
    "from ipynb.fs.defs.Coordinates import Coordinates\n",
    "from ipynb.fs.defs.Sites import wave_columns, Site\n",
    "from ipynb.fs.defs.Periods import Period\n",
    "from ipynb.fs.defs.time_index import convert_index, stitch, clean_data"
   ]
  },
  {
   "cell_type": "code",
   "execution_count": 3,
   "metadata": {},
   "outputs": [],
   "source": [
    "'''\n",
    "Erddap Data Server\n",
    "For data access form, see 'https://erddap.marine.ie/erddap/tabledap/IWaveBNetwork_spectral.html'\n",
    "'''\n",
    "db_name = 'IWaveBNetwork_spectral.csv'"
   ]
  },
  {
   "cell_type": "code",
   "execution_count": 3,
   "metadata": {},
   "outputs": [],
   "source": [
    "'''\n",
    "A function that returns wave data belonging to a specific year and a station taken as parameters.\n",
    "If the data is not saved in the system, fetches it from ERDDAP server via request URL.\n",
    "'''\n",
    "\n",
    "def get_year_data(station_id, year):\n",
    "    path = 'data/Ireland_Marine_Institute/'\n",
    "    filename = str(station_id)+'_'+str(year)+'_'+db_name\n",
    "    \n",
    "    if os.path.split(os.getcwd())[1] == 'site_data':here='./'\n",
    "    else:here='./site_data/'\n",
    "        \n",
    "    path = here + path\n",
    "    if not os.path.exists(path):\n",
    "        os.makedirs(path)\n",
    "            \n",
    "    filename= path + filename     \n",
    "    if os.path.isfile(filename):\n",
    "        wave_data = pd.read_csv(filename)\n",
    "        \n",
    "    else:\n",
    "        url = 'https://erddap.marine.ie/erddap/tabledap/' + db_name + '?'\n",
    "        variables = 'time,latitude,longitude,station_id,SignificantWaveHeight,PeakPeriod'\n",
    "        time_start = str(year) + '-01-01T00:00:00Z'\n",
    "        time_end = str(year) + '-12-31T23:59:00Z'\n",
    "        url_add = variables\n",
    "        url_add += '&time>=' + time_start\n",
    "        url_add += '&time<=' + time_end\n",
    "        url_add += '&station_id=\"' + station_id + '\"' \n",
    "\n",
    "        #encode query in order to assure correct url format\n",
    "        url += urllib.parse.quote(url_add , safe='=&')\n",
    "        print(url)\n",
    "        response = requests.get(url, verify=False)\n",
    "\n",
    "        #If no data has queued (possibly due to no data at a given date etc.)\n",
    "        #code 200 = ok\n",
    "        if response.status_code != 200 : \n",
    "            print('station' + str(station_id) + ' has no data available at given times')\n",
    "            return pd.DataFrame()\n",
    "        \n",
    "        response = response.content\n",
    "\n",
    "        #first row of the data is reserved for variable units \n",
    "        wave_data = pd.read_csv(io.StringIO(response.decode('utf-8')) , sep = ',' , header=0, skiprows=[1])\n",
    "        \n",
    "        if not wave_data.empty:\n",
    "            wave_data.columns = ['Time (UTC)' , 'Latitude' , 'Longitude' , 'Station_id' , 'Hs(m)_Ireland' , 'Tp(s)_Ireland']        \n",
    "            wave_data.drop(['Latitude','Longitude','Station_id'], axis=1, inplace=True)\n",
    "           \n",
    "            #save the year data to a csv file\n",
    "            wave_data.to_csv(filename, index=False)\n",
    "    return wave_data"
   ]
  },
  {
   "cell_type": "raw",
   "metadata": {},
   "source": [
    "'''\n",
    "Function for getting a sites' data between given time interval.\n",
    "'''\n",
    "def get_site_data(station_id, years):\n",
    "    \n",
    "    site_data=pd.DataFrame()  \n",
    "    \n",
    "    for y in years:\n",
    "        if site_data.empty: \n",
    "            site_data = get_year_data(station_id , y)\n",
    "        else: \n",
    "            single_data = get_year_data(station_id , y)\n",
    "            if not single_data.empty: \n",
    "                site_data = stitch(site_data , single_data)\n",
    "            \n",
    "    return site_data"
   ]
  },
  {
   "cell_type": "code",
   "execution_count": 6,
   "metadata": {},
   "outputs": [],
   "source": [
    "'''\n",
    "Main function that takes user inputs as parameter \n",
    "and returns dictionary structure containing Ireland data with the desired stations and the time frame.\n",
    "\n",
    "Inputs are; a site object(site_name, *coordinates), start time, end time\n",
    "\n",
    "Station id is assigned according to the given coordinates. \n",
    "If that coordinate is not in Ireland stations list, then the closest one within distance limit is calculated and assigned. \n",
    "\n",
    "Current distance limit is 200 km.\n",
    "'''\n",
    "def get_Ireland_data(time_start, time_end, station_id, swell=False):\n",
    "    print('Getting data from Ireland db')\n",
    "    if swell:\n",
    "        print('Ireland has no swell data available')\n",
    "        \n",
    "    start_year = int(time_start[0:4])\n",
    "    end_year = int(time_end[0:4])\n",
    "    years = list(range(start_year, end_year+1))    \n",
    "        \n",
    "    site_data=pd.DataFrame()  \n",
    "    for y in years:\n",
    "        single_data = get_year_data(station_id , y)\n",
    "        if single_data.empty: continue\n",
    "            \n",
    "        if site_data.empty: site_data = clean_data(single_data, station_id)[time_start:time_end]\n",
    "        else: site_data = stitch(site_data , clean_data(single_data, station_id)[time_start:time_end])\n",
    "           \n",
    "    return site_data"
   ]
  },
  {
   "cell_type": "raw",
   "metadata": {},
   "source": [
    "def clean_data(df, station_id):\n",
    "    \n",
    "    df.set_index(wave_data.columns[0],inplace=True)\n",
    "    df.index=pd.to_datetime(wave_data.index,utc=True)\n",
    "    df.sort_index(inplace=True)\n",
    "    df=remove_duplicate_inputs(wave_data)\n",
    "    df=convert_index(wave_data)\n",
    "    df.index=wave_data.index.tz_convert('UTC')\n",
    "    \n",
    "    #df.drop(wave_data.columns.values[2:],axis=1,inplace=True)\n",
    "    new_columns = wave_data.columns.values+'_'+str(station_id)\n",
    "    wave_data.columns = new_columns\n",
    "    \n",
    "    return df"
   ]
  },
  {
   "cell_type": "raw",
   "metadata": {},
   "source": [
    "start = '20170101'\n",
    "end = '20171230'\n",
    "get_Ireland_data(start,end,'AMETS Berth B Wave Buoy').head(20)"
   ]
  },
  {
   "cell_type": "raw",
   "metadata": {},
   "source": [
    "\n",
    "start = '20110101'\n",
    "end = '20110301'\n",
    "get_Ireland_data(start,end,'SmartBay Wave Buoy')\n",
    "#CDIP_data_single(67, 2011)\n"
   ]
  },
  {
   "cell_type": "raw",
   "metadata": {},
   "source": [
    "start='20120506'\n",
    "end='20201231'\n",
    "#s = Site('BB' , Coordinates(54.76 , -10.70))\n",
    "s2 = Site('AA' , Coordinates(54.73 , -10.28))\n",
    "sites = [s2]\n",
    "IE=get_Ireland_data(sites , start , end)\n",
    "\n",
    "#print(IE['timeSeries'].Latitude.unique())\n",
    "\n",
    "#IE=get_Ireland_data(sites , start , end)\n",
    "#IE['timeSeries'] = IE['timeSeries'].loc[IE['timeSeries']['Latitude'] > 54.3]\n",
    "#print(IE['timeSeries'].loc['20191123T1100':'20191123T1600'])\n",
    "print(IE)"
   ]
  },
  {
   "cell_type": "raw",
   "metadata": {
    "scrolled": false
   },
   "source": [
    "start='20170506'\n",
    "end='20181231'\n",
    "s = Site('BB' , Coordinates(54.67 , -10.28))\n",
    "s2 = Site('Belmullet' , Coordinates(54.13 , 10.13))\n",
    "sites = [s2 , s]\n",
    "\n",
    "start='20190506'\n",
    "end='20201231'\n",
    "s = Site('BB' , Coordinates(54.76 , -9.70))\n",
    "s2 = Site('Belmullet' , Coordinates(54.23 , -10.14))\n",
    "sites = [s, s2]\n",
    "\n",
    "IE=get_Ireland_data(sites , start , end)\n",
    "print(IE)\n"
   ]
  },
  {
   "cell_type": "code",
   "execution_count": null,
   "metadata": {},
   "outputs": [],
   "source": []
  }
 ],
 "metadata": {
  "kernelspec": {
   "display_name": "Python 3",
   "language": "python",
   "name": "python3"
  },
  "language_info": {
   "codemirror_mode": {
    "name": "ipython",
    "version": 3
   },
   "file_extension": ".py",
   "mimetype": "text/x-python",
   "name": "python",
   "nbconvert_exporter": "python",
   "pygments_lexer": "ipython3",
   "version": "3.6.7"
  }
 },
 "nbformat": 4,
 "nbformat_minor": 2
}
